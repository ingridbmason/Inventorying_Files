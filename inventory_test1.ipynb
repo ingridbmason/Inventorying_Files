{
 "cells": [
  {
   "cell_type": "markdown",
   "metadata": {},
   "source": [
    "### Importing the code libraries\n",
    "\n",
    "There are two code libraries to import.  \n",
    "\n",
    "* \"os\" that supports the interaction with the operating system - [see Python Standard Library for \"os\"](https://docs.python.org/3/library/math.html)\n",
    "* \"math\" that supports the use of mathematical functions - [see Python Standard Library for \"math\"](https://docs.python.org/3/library/os.html?highlight=os#module-os)"
   ]
  },
  {
   "cell_type": "code",
   "execution_count": 1,
   "metadata": {
    "collapsed": true
   },
   "outputs": [],
   "source": [
    "import os\n",
    "import math"
   ]
  },
  {
   "cell_type": "markdown",
   "metadata": {},
   "source": [
    "### Identifying where to start the inventory\n",
    "\n",
    "The inventorying needs to start somewhere and this is the first step. A way to do this might be to look at the file system and using the list command *ls*.  "
   ]
  },
  {
   "cell_type": "code",
   "execution_count": 2,
   "metadata": {},
   "outputs": [
    {
     "name": "stdout",
     "output_type": "stream",
     "text": [
      "Ingrid.ipynb           \u001b[34mfiles\u001b[m\u001b[m/                 inventory_test1.ipynb\r\n"
     ]
    }
   ],
   "source": [
    "ls"
   ]
  },
  {
   "cell_type": "markdown",
   "metadata": {},
   "source": [
    "In our working directory we can see a directory called \"files/\" and this is where we are going to start the inventorying exercise. We are making a comment in the code so we keep a record of what we are doing.  The command *topdir* identifies the starting point and the command *'./files/'* is a relative path (avoiding the need to provide the full absolute path). "
   ]
  },
  {
   "cell_type": "code",
   "execution_count": 3,
   "metadata": {
    "collapsed": true
   },
   "outputs": [],
   "source": [
    "## Start here\n",
    "topdir = './files/'"
   ]
  },
  {
   "cell_type": "markdown",
   "metadata": {},
   "source": [
    "### Finding hidden filenames\n",
    "This piece of code identifies hidden files that sit in the \"files/\" directory.  In Python this is called *defining a function*.  Here the code defines a function (the \"ishidden\" function).  Hidden files that start with a fullstop *.filename* are being identified so that they can be eliminated from the inventory (on the assumption that hidden files are not of interest). This function uses [built in constants](https://docs.python.org/3/library/constants.html) such as \"True\" and \"False\" and the [Python strings command](https://www.w3schools.com/python/python_strings.asp) *startswith*.   "
   ]
  },
  {
   "cell_type": "code",
   "execution_count": 4,
   "metadata": {
    "collapsed": true
   },
   "outputs": [],
   "source": [
    "## Identify hidden files\n",
    "def ishidden(name):\n",
    "    if name.startswith('.'):\n",
    "        return True\n",
    "    else:\n",
    "        return False"
   ]
  },
  {
   "cell_type": "markdown",
   "metadata": {},
   "source": [
    "### Sorting and weeding files\n",
    "This piece of code sorts and weeds the hidden files and also defines a function (the \"mysort\" function). This piece of code uses the constant \"None\" and the [Python list/array method command](https://www.w3schools.com/python/python_ref_list.asp) *remove*.     "
   ]
  },
  {
   "cell_type": "code",
   "execution_count": 5,
   "metadata": {
    "collapsed": true
   },
   "outputs": [],
   "source": [
    "def mysort(names):\n",
    "    for name in names:\n",
    "        if name is None or ishidden(name):\n",
    "            names.remove(name)\n",
    "    return names.sort()"
   ]
  },
  {
   "cell_type": "markdown",
   "metadata": {},
   "source": [
    "### Print file list\n",
    "This is another defined function (the \"listfiles\" function).  This piece of code has a printed heading **Directory contents** - on the next line a dashed underline **-----** and the next line is empty. What follows is a set of instructions on how to print out the files (as a list) from the top directory that includes the relative filename of the sub-directories and the file names within those sub-directories.  There are a [range of *os* commands](https://docs.python.org/2/library/os.html) including *os.listdir* to work with.    "
   ]
  },
  {
   "cell_type": "code",
   "execution_count": 6,
   "metadata": {
    "collapsed": true
   },
   "outputs": [],
   "source": [
    "def listfiles(topdir):\n",
    "    print('Directory contents')\n",
    "    print('------------------')\n",
    "    print('')\n",
    "    for dirpath, dirnames, files in os.walk(topdir):\n",
    "        mysort(dirnames)\n",
    "        \n",
    "        for dirname in dirnames:\n",
    "            print(os.path.join(dirpath,dirname))\n",
    "            fileList = os.listdir(os.path.join(dirpath,dirname))\n",
    "            fileList.sort()\n",
    "            for f in fileList:\n",
    "                if not ishidden(f):\n",
    "                    print('          -- ',f)\n",
    "    print('')"
   ]
  },
  {
   "cell_type": "markdown",
   "metadata": {},
   "source": [
    "### Print directory size"
   ]
  },
  {
   "cell_type": "code",
   "execution_count": 7,
   "metadata": {
    "collapsed": true
   },
   "outputs": [],
   "source": [
    "def directorysize(topdir, path=True):\n",
    "    print('Directory size')\n",
    "    print('--------------')\n",
    "    print('')\n",
    "    for dirpath, dirnames, files in os.walk(topdir):\n",
    "        mysort(dirnames)\n",
    "        for dirname in dirnames:\n",
    "            filelist = os.listdir(os.path.join(dirpath,dirname))\n",
    "            bytesize = getsize(os.path.join(dirpath,dirname))\n",
    "            readablesize = convertsize(bytesize)\n",
    "            if path==True:\n",
    "                print(os.path.join(dirpath,dirname), len(filelist), 'files:', readablesize)\n",
    "            else:\n",
    "                print(dirname, len(filelist), 'files:', readablesize)\n",
    "                \n",
    "    print('')"
   ]
  },
  {
   "cell_type": "markdown",
   "metadata": {},
   "source": [
    "### Get directory size"
   ]
  },
  {
   "cell_type": "code",
   "execution_count": 8,
   "metadata": {
    "collapsed": true
   },
   "outputs": [],
   "source": [
    "def getsize(p):\n",
    "    totalsize = 0\n",
    "    \n",
    "    for path, dirs, files in os.walk(p):\n",
    "        for f in files:\n",
    "            fp = os.path.join(path,f)\n",
    "            totalsize += os.path.getsize(fp)\n",
    "    return totalsize"
   ]
  },
  {
   "cell_type": "markdown",
   "metadata": {},
   "source": [
    "### Calculate size"
   ]
  },
  {
   "cell_type": "code",
   "execution_count": 9,
   "metadata": {
    "collapsed": true
   },
   "outputs": [],
   "source": [
    "def convertsize(sizebytes):\n",
    "   if sizebytes == 0:\n",
    "       return \"0B\"\n",
    "   sizename = (\"B\", \"KB\", \"MB\", \"GB\", \"TB\", \"PB\", \"EB\", \"ZB\", \"YB\")\n",
    "   i = int(math.floor(math.log(sizebytes, 1024)))\n",
    "   p = math.pow(1024, i)\n",
    "   s = round(sizebytes / p, 2)\n",
    "   return \"%s %s\" % (s, sizename[i])    "
   ]
  },
  {
   "cell_type": "markdown",
   "metadata": {},
   "source": [
    "### Convert size"
   ]
  },
  {
   "cell_type": "code",
   "execution_count": 10,
   "metadata": {
    "collapsed": true
   },
   "outputs": [],
   "source": [
    "def convertsize(sizebytes):\n",
    "   if sizebytes == 0:\n",
    "       return \"0B\"\n",
    "   sizename = (\"B\", \"KB\", \"MB\", \"GB\", \"TB\", \"PB\", \"EB\", \"ZB\", \"YB\")\n",
    "   i = int(math.floor(math.log(sizebytes, 1024)))\n",
    "   p = math.pow(1024, i)\n",
    "   s = round(sizebytes / p, 2)\n",
    "   return \"%s %s\" % (s, sizename[i])    "
   ]
  },
  {
   "cell_type": "markdown",
   "metadata": {},
   "source": [
    "### Invoke the functions"
   ]
  },
  {
   "cell_type": "code",
   "execution_count": 11,
   "metadata": {},
   "outputs": [
    {
     "name": "stdout",
     "output_type": "stream",
     "text": [
      "Directory contents\n",
      "------------------\n",
      "\n",
      "./files/directory-a\n",
      "          --  6d28405b8a594353b20a0c9ae2c8e933 (2).docx\n",
      "          --  AmIOutOfTouch.txt\n",
      "          --  RobertRedford.txt\n",
      "          --  shutdown-showdown.txt\n",
      "./files/directory-b\n",
      "          --  ACCC - MBA Report - November 2018.pdf\n",
      "          --  WHR_web.pdf\n",
      "          --  lesson2.pdf\n",
      "          --  pdf-test.pdf\n",
      "          --  pdf.pdf\n",
      "          --  samplereport.pdf\n",
      "./files/directory-c\n",
      "          --  im10.jpg\n",
      "          --  im2.jpg\n",
      "          --  im3.jpg\n",
      "          --  im4.jpg\n",
      "          --  im6.jpg\n",
      "          --  im8.jpg\n",
      "          --  images.jpg\n",
      "          --  index.jpg\n",
      "\n",
      "Directory size\n",
      "--------------\n",
      "\n",
      "./files/directory-a 6 files: 113.75 KB\n",
      "./files/directory-b 6 files: 5.42 MB\n",
      "./files/directory-c 8 files: 73.81 KB\n",
      "\n",
      "Directory size\n",
      "--------------\n",
      "\n",
      "directory-a 6 files: 113.75 KB\n",
      "directory-b 6 files: 5.42 MB\n",
      "directory-c 8 files: 73.81 KB\n",
      "\n"
     ]
    }
   ],
   "source": [
    "def main():\n",
    "    listfiles(topdir)\n",
    "    directorysize(topdir)\n",
    "    directorysize(topdir,path=False)\n",
    "\n",
    "\n",
    "if __name__ == \"__main__\": main()"
   ]
  },
  {
   "cell_type": "code",
   "execution_count": null,
   "metadata": {
    "collapsed": true
   },
   "outputs": [],
   "source": []
  }
 ],
 "metadata": {
  "kernelspec": {
   "display_name": "Python 3",
   "language": "python",
   "name": "python3"
  },
  "language_info": {
   "codemirror_mode": {
    "name": "ipython",
    "version": 3
   },
   "file_extension": ".py",
   "mimetype": "text/x-python",
   "name": "python",
   "nbconvert_exporter": "python",
   "pygments_lexer": "ipython3",
   "version": "3.6.1"
  }
 },
 "nbformat": 4,
 "nbformat_minor": 2
}
